{
 "cells": [
  {
   "cell_type": "markdown",
   "metadata": {},
   "source": [
    "# Day 5 Reading Journal\n",
    "\n",
    "This journal includes several required exercises, but it is meant to encourage active reading more generally.  You should use the journal to take detailed notes, catalog questions, and explore the content from Think Python deeply.\n",
    "\n",
    "Reading: Think Python Chapter 4\n",
    "\n",
    "**Due: Thursday, February 2 at 12 noon**\n",
    "\n"
   ]
  },
  {
   "cell_type": "markdown",
   "metadata": {},
   "source": [
    "## [Chapter 4](http://www.greenteapress.com/thinkpython2/html/thinkpython2005.html)\n",
    "\n",
    "In today's reading, you will be exploring the turtle module, which allows you to create images using turtle graphics. The turtle module is included in most Python installations, and you did a quick test with it during the Get Set assignment.\n",
    "\n",
    "### Turtle wrangling\n",
    "\n",
    "You can always run your code as separate Python scripts, but here are a few tips for mixing Turtle with Jupyter notebook:\n",
    "\n",
    " - Turtle will appear in a new GUI window, rather than inline in the notebook like typical results do\n",
    " - You will not be able to close the Turtle window unless you run `turtle.mainloop()` as the last line of your code."
   ]
  },
  {
   "cell_type": "markdown",
   "metadata": {},
   "source": [
    "for i, item in enumerate(1st):\n",
    "    print(i, item)\n",
    "    \n",
    "You can also do list(enumerate(1st)). That creates a list with indexes associated with each item in the list.\n",
    "\n",
    "All this helps you to loop through and keep track of what the index is\n",
    "    \n",
    "Enumerating keeps track of the index in a for loop.\n",
    "\n",
    "Seems you can use enumerate on lists or strings. \n",
    "\n",
    "Using enumerate and the index can also help you to go through two lists with only one loop.\n",
    "\n",
    "Zip is a function which takes two lists and pairs the corresponding items in each list. An example using zip:\n",
    "for a, b in zip(1st, 1st2):\n",
    "    print(a + b)\n",
    "    \n",
    "List comprehension: squares = [n \\** 2 for n in 1st] that does the same thing as looping through 1st and appending each square to the list called squares. \n",
    "\n",
    "Can also make returns more concise - instead of ifs and such do: return {'C': 'G', 'G': 'C', 'A': 'T'}. Uses dictionary to do the same thing.\n",
    "\n",
    "String library allows you to join things. To join these things into one string with a comma do: ','.join(['a','b','c']). Also can join them with an empty string, etc. \n",
    "\n",
    "all(whatever) can determine if all of things in whatever are true. any(whatever) can determine if any things in whatever are true."
   ]
  },
  {
   "cell_type": "markdown",
   "metadata": {},
   "source": [
    "### Get started\n",
    "\n",
    "Run the code in the cell below and make sure everything works. You should see brave Bob spring into the world and run forward. You can close the window when you're done by clicking on the 'X'. If this simple test doesn't work, check your Python3 install (especially if you get an `ImportError`) and ask for help."
   ]
  },
  {
   "cell_type": "code",
   "execution_count": 2,
   "metadata": {
    "collapsed": false
   },
   "outputs": [],
   "source": [
    "import turtle\n",
    "\n",
    "# Create the world, and a turtle to put in it\n",
    "bob = turtle.Turtle()\n",
    "\n",
    "# Get moving, turtle!\n",
    "bob.fd(100)\n",
    "\n",
    "# Wait for the user to close the window\n",
    "turtle.mainloop()"
   ]
  },
  {
   "cell_type": "markdown",
   "metadata": {
    "is_question": true,
    "problem": "Section 4.3"
   },
   "source": [
    "### Chapter 4.3\n",
    "Work through exercises 1-5 in Chapter 4.3, creating the `square`, `polygon`, `circle`, and `arc` functions. You can reference Allen's solutions, but please try the problems on your own first."
   ]
  },
  {
   "cell_type": "code",
   "execution_count": 19,
   "metadata": {
    "collapsed": false,
    "solution": "Section 4.3"
   },
   "outputs": [],
   "source": [
    "import turtle\n",
    "import math\n",
    "def square(t,length):\n",
    "    for i in range(4):\n",
    "        t.fd(length)\n",
    "        t.rt(90)\n",
    "    turtle.mainloop()\n",
    "\n",
    "def polygon(t,length,n):\n",
    "    for i in range(n):\n",
    "        t.fd(length)\n",
    "        t.rt(360/n)\n",
    "    turtle.mainloop()\n",
    "    \n",
    "def circle(t,radius):\n",
    "    c = 2*math.pi*radius\n",
    "    n = int(c/5) + 3 #add 3 to make sure it has at least 3 sides\n",
    "    length = c/n\n",
    "    polygon(t,length,n)\n",
    "    \n",
    "def arc(t,radius,angle):\n",
    "    arc_c = 2*math.pi*radius*(angle/360)\n",
    "    n = int(arc_c/5) + 3 #add 3 to make sure it has at least 3 sides\n",
    "    length = arc_c/n\n",
    "    angle = angle/n\n",
    "    for i in range(n):\n",
    "        t.fd(length)\n",
    "        t.rt(angle)\n",
    "    turtle.mainloop()\n",
    "\n",
    "bob = turtle.Turtle()\n",
    "#square(bob,100)\n",
    "#square(bob,500)\n",
    "#square(bob,10)\n",
    "#polygon(bob,100,8)\n",
    "#circle(bob,50)\n",
    "arc(bob,50,180)"
   ]
  },
  {
   "cell_type": "markdown",
   "metadata": {
    "is_question": true,
    "problem": "More fun"
   },
   "source": [
    "### Chapter 4.12\n",
    "#### More fun with Turtles!\n",
    "Complete at least one of Exercise 2, 3, 4, or 5. If you come up with some cool drawings you'd like to share with the rest of the class, let us know!"
   ]
  },
  {
   "cell_type": "code",
   "execution_count": 14,
   "metadata": {
    "collapsed": true
   },
   "outputs": [],
   "source": [
    "import turtle\n",
    "def spiral(t, n, length, a, b):\n",
    "    theta = 0\n",
    "    for i in range(n):\n",
    "        t.fd(length)\n",
    "        dtheta = 1 / (a + b * theta)\n",
    "\n",
    "        t.lt(dtheta)\n",
    "        theta += dtheta\n",
    "\n",
    "bob = turtle.Turtle()\n",
    "spiral(bob,500,3,.01,.0002)\n",
    "turtle.mainloop()"
   ]
  },
  {
   "cell_type": "markdown",
   "metadata": {},
   "source": [
    "## Reading Journal feedback\n",
    "\n",
    "[Please complete this short survey](https://docs.google.com/forms/d/e/1FAIpQLScQekhUrf6YYjpfQiAAbavLIA-IJklv_PX1BWbGgxj7JPolmw/viewform?c=0&w=1)\n",
    "\n",
    "If you have any comments on this Reading Journal, feel free to leave them in the survey linked above. This could include suggestions to improve the exercises, topics you'd like to see covered in class next time, or other feedback.\n",
    "\n",
    "If you have Python questions or run into problems while completing the reading, you should post them to Piazza instead so you can get a quick response before your journal is submitted."
   ]
  },
  {
   "cell_type": "markdown",
   "metadata": {},
   "source": [
    " "
   ]
  }
 ],
 "metadata": {
  "kernelspec": {
   "display_name": "Python 3",
   "language": "python",
   "name": "python3"
  },
  "language_info": {
   "codemirror_mode": {
    "name": "ipython",
    "version": 3
   },
   "file_extension": ".py",
   "mimetype": "text/x-python",
   "name": "python",
   "nbconvert_exporter": "python",
   "pygments_lexer": "ipython3",
   "version": "3.4.3"
  }
 },
 "nbformat": 4,
 "nbformat_minor": 0
}
