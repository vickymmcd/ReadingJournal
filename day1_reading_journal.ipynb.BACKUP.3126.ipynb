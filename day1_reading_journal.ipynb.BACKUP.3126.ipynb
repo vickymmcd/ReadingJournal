{
 "cells": [
  {
   "cell_type": "markdown",
   "metadata": {},
   "source": [
    "# Day 1 Reading Journal\n",
    "\n",
    "Hi everyone.  These are the exercises for the first set of readings from ThinkPython.  While this journal consists of several required exercises, it is meant to encourage active reading more generally.  You should use this journal to take detailed notes, catalog questions, and explore the content from ThinkPython deeply.\n",
    "\n",
    "For more information on using the Jupyter notebook, check out the documentation [here](https://www.datacamp.com/community/tutorials/tutorial-jupyter-notebook##UseJupyter).\n",
    "\n",
    "Additionally, in order to write text in this document, you will be making use of Markdown cells. A handy cheatsheet for Markdown is available [here](https://github.com/adam-p/markdown-here/wiki/Markdown-Cheatsheet)."
   ]
  },
  {
   "cell_type": "markdown",
   "metadata": {},
   "source": [
    "## Chapter 1\n",
    "\n",
    "Note: the exercise numbers below match up with the reading for ease of cross referencing."
   ]
  },
  {
   "cell_type": "markdown",
   "metadata": {},
   "source": [
    "A program is a sequence of instructions which specifies how to perform a computation. \n",
    "\n",
    "The \\** operator (without the space) performs exponentiation.\n",
    "\n",
    "When you insert commas it is interpreted as a comma separated sequence of integers, not as one legal integer.\n",
    "\n",
    "Programming languages are formal languages (designed by people for specific applications) that have been designed to express computations.\n",
    "\n",
    "Tokens are basic elements of a language.\n",
    "\n",
    "Process of figuring out the structure of a language is parsing.\n",
    "\n",
    "Tracking down programming errors (bugs) is called debugging."
   ]
  },
  {
   "cell_type": "markdown",
   "metadata": {},
   "source": [
    "### Exercise 1.2\n",
    "### Exercise 1.4\n",
    "\n",
    "Start the Python interpreter and use it as a simple calculator. Python’s syntax for math operations is almost the same as standard mathematical notation. For example, the symbols +, - and / denote addition, subtraction and division, as you would expect. The symbol for multiplication is *\n",
    "\n",
    "* How many seconds are there in 42 minutes 42 seconds?\n",
    "* How many miles are there in 10 kilometers? Hint: there are 1.61 kilometers in a mile.\n",
    "* If you run a 10 kilometer race in 42 minutes 42 seconds, what is your average pace (time per mile in minutes and seconds)? What is your average speed in miles per hour?\n",
    "\n",
    "Please use the following markdown cell to provide your answers."
   ]
  },
  {
   "cell_type": "code",
   "execution_count": 20,
   "metadata": {
    "collapsed": false
   },
   "outputs": [
    {
     "name": "stdout",
     "output_type": "stream",
     "text": [
      "2562 seconds\n",
      "6.211180124223602 miles\n",
      "6.874700000000002 minutes per mile\n",
      "6 minutes and 52.4820000000001 seconds per mile\n",
      "8.727653570337614 miles per hour\n"
     ]
    }
   ],
   "source": [
    "import math\n",
    "print (str((42*60)+42)+ \" seconds\") #seconds in 42 mins 42 secs\n",
    "print (str(10/1.61)+ \" miles\") #miles in 10 km\n",
    "x = ((42+(42/60))/(10/1.61)) #minutes per mile\n",
    "print (str(x) + \" minutes per mile\") \n",
    "y = x - math.trunc(x) #retrieve just seconds\n",
    "z = math.trunc(x) #retrieve just minutes\n",
    "print(str(z) + \" minutes and \" + str(y*60) + \" seconds per mile\") #time per mile in mins and secs\n",
    "print (str((10/1.61)/((42/60)+(42/3600)))+ \" miles per hour\") #miles per hour"
   ]
  },
  {
   "cell_type": "markdown",
   "metadata": {},
   "source": []
  },
  {
   "cell_type": "markdown",
   "metadata": {},
   "source": [
    "## Chapter 2"
   ]
  },
  {
   "cell_type": "markdown",
   "metadata": {},
   "source": [
    "Variable is a name that refers to a value and an assignment statement creates a new variable and gives it a value.\n",
    "\n",
    "A state diagram has arrows pointing from variable names to that variable's current value.\n",
    "\n",
    "Python keywords (like class) cannot be used as variable names.\n",
    "\n",
    "An expression is merely evaluated, a statement has an effect (assigning a variable, etc.).\n",
    "\n",
    "Scripts don't output code unless you tell them to with something like a print statement.\n",
    "\n",
    "Python follows PEMDAS.\n",
    "\n",
    "Strings can be concatenated with + and *.\n",
    "\n",
    "Comments (starting with #) can add useful information that is not in the code.\n",
    "\n"
   ]
  },
  {
   "cell_type": "markdown",
   "metadata": {},
   "source": [
    "### Exercise\n",
    "\n",
    "Assume that we execute the following assignment statements:\n",
    "\n",
    "```\n",
    "width = 17\n",
    "height = 12.0\n",
    "delimiter = '.'\n",
    "```\n",
    "\n",
    "For each of the following expressions, write the value of the expression and the type (of the value of the expression).\n",
    "\n",
    "Example: `width * 2` <br/>\n",
    "Answer: 34, integer\n",
    "\n",
    "1. `width/2`\n",
    "2. `width/2.0`\n",
    "3. `height/3`\n",
    "4. `1 + 2 * 5`\n",
    "5. `delimiter * 5`\n",
    "\n",
    "Please use the following markdown cell to provide your answer."
   ]
  },
  {
   "cell_type": "code",
   "execution_count": 5,
   "metadata": {
    "collapsed": false
   },
   "outputs": [],
   "source": [
    "width = 17\n",
    "height = 12.0\n",
    "delimiter = '.'\n"
   ]
  },
  {
   "cell_type": "markdown",
   "metadata": {},
   "source": [
    "1. 8.5 is the value and float is the type\n",
    "2. 8.5 is the value and float is the type\n",
    "3. 4.0 is the value and float is the type\n",
    "4. 11 is the value and int is the type\n",
    "5. '.....' is the value and string is the type"
   ]
  },
  {
   "cell_type": "markdown",
   "metadata": {},
   "source": [
    "### Exercise 2.2\n",
    "\n",
    "Practice using the Python interpreter as a calculator.  For each of these provide Python code that computes each answer."
   ]
  },
  {
   "cell_type": "markdown",
   "metadata": {},
   "source": [
    "The volume of a sphere with radius r is $4/3 \\pi  r^3$. What is the volume of a sphere with radius 5? <br />\n",
    "Hint: 392.7 is wrong! You can approximate pi with 3.14 or import it through the Python math library."
   ]
  },
  {
   "cell_type": "code",
   "execution_count": 24,
   "metadata": {
    "collapsed": false
   },
   "outputs": [
    {
     "name": "stdout",
     "output_type": "stream",
     "text": [
      "523.5987755982989\n"
     ]
    }
   ],
   "source": [
    "import math\n",
    "volume = (4/3)*math.pi*5**3\n",
    "print (volume)"
   ]
  },
  {
   "cell_type": "markdown",
   "metadata": {},
   "source": [
    "Suppose the cover price of a book is \\$24.95, but bookstores get a 40% discount. Shipping costs \\$3 for the first copy and 75 cents for each additional copy. What is the total wholesale cost for 60 copies?"
   ]
  },
  {
   "cell_type": "code",
   "execution_count": 26,
   "metadata": {
    "collapsed": false
   },
   "outputs": [
    {
     "name": "stdout",
     "output_type": "stream",
     "text": [
      "$945.4499999999999\n"
     ]
    }
   ],
   "source": [
    "storeprice = 24.95-(.4*24.95)\n",
    "shipping = 3 + .75*59\n",
    "cost = (storeprice*60)+shipping\n",
    "print(\"$\" + str(cost))"
   ]
  },
  {
   "cell_type": "markdown",
   "metadata": {},
   "source": [
    "If I leave my house at 6:52 am and run 1 mile at an easy pace (8:15 per mile), then 3 miles at tempo (7:12 per mile) and 1 mile at easy pace again, what time do I get home for breakfast? "
   ]
  },
  {
   "cell_type": "code",
   "execution_count": 32,
   "metadata": {
    "collapsed": false
   },
   "outputs": [
    {
     "name": "stdout",
     "output_type": "stream",
     "text": [
      "7:30\n"
     ]
    }
   ],
   "source": [
    "import math\n",
    "seconds = (((8*60)+15)*2) + (((7*60)+12)*3)\n",
    "time = (6*60*60)+(52*60)\n",
    "time = time + seconds #current time in seconds\n",
    "time = time/60 #current time in minutes\n",
    "time = time/60 #current time in hours\n",
    "hour = math.trunc(time) #current hour\n",
    "minutes = time - math.trunc(time)\n",
    "minutes = minutes*60\n",
    "minutes = math.trunc(minutes)\n",
    "print(str(hour) + \":\" + str(minutes)) #time he gets home for breakfast"
   ]
=======
   "execution_count": null,
   "metadata": {
    "collapsed": true
   },
   "outputs": [],
   "source": []
>>>>>>> 759afb593fb7e11d448ac27545d0a61074bbf034
  },
  {
   "cell_type": "markdown",
   "metadata": {},
   "source": [
    "## Chapter 3"
   ]
  },
  {
   "cell_type": "markdown",
   "metadata": {},
   "source": [
    "Functions take arguments and return results.\n",
    "\n",
    "Numbers can be converted to different types using functions like int(5.5) and float(7).\n",
    "\n",
    "A module is a file that contains a collection of related functions and must be imported before it can be used.\n",
    "\n",
    "The left side of an assignment statement must be a variable name. \n",
    "\n",
    "Function definition specifies the sequence of statements that run when the function is called. \n",
    "\n",
    "Defining a function creates a function object of type function.\n",
    "\n",
    "Flow of execution means statements in a program run one at a time from top to bottom and take a detour to a function if one is called.\n",
    "\n",
    "Arguments are assigned to variables called parameters.\n",
    "\n",
    "Variables created inside functions and parameters only exist within those functions.\n",
    "\n",
    "Stack diagrams show functions in frames with the variables that exist in those functions in the appropriate frames.\n",
    "\n",
    "Traceback is list of functions that were executing when error occurred.\n",
    "\n",
    "Void functions perform an action but don't return a value while fruitful functions return results."
   ]
  },
  {
   "cell_type": "markdown",
   "metadata": {},
   "source": [
    "### Exercise 3.1\n",
    "\n",
    "Write a function named `right_justify` that takes a string named s as a parameter and prints the string with enough leading spaces so that the last letter of the string is in column 70 of the display.\n",
    "\n",
    "```\n",
    ">>> right_justify('monty')\n",
    "                                                                 monty\n",
    "```\n",
    "Hint: Use string concatenation and repetition. Also, Python provides a built-in function called `len` that returns the length of a string, so the value of `len('monty')` is 5."
   ]
  },
  {
   "cell_type": "code",
   "execution_count": 37,
   "metadata": {
    "collapsed": false
   },
   "outputs": [
    {
     "name": "stdout",
     "output_type": "stream",
     "text": [
      "                                                                 monty\n"
     ]
    }
   ],
   "source": [
    "def addSpace(str):\n",
    "    return \" \" + str\n",
    "\n",
    "def right_justify(str):\n",
    "    theLength = len(str)\n",
    "    for i in range (0, 70-theLength):\n",
    "        str = addSpace(str)\n",
    "    return str\n",
    "        \n",
    "print(right_justify('monty'))"
   ]
  },
  {
   "cell_type": "markdown",
   "metadata": {},
   "source": [
    "### Exercise 3.3\n",
    "\n",
    "Note: This exercise should be done using only the statements and other features we have learned so far.\n",
    "\n",
    "1\\. Write a function that draws a grid like the following:\n",
    "\n",
    "```\n",
    "+ - - - - + - - - - +\n",
    "|         |         |\n",
    "|         |         |\n",
    "|         |         |\n",
    "|         |         |\n",
    "+ - - - - + - - - - +\n",
    "|         |         |\n",
    "|         |         |\n",
    "|         |         |\n",
    "|         |         |\n",
    "+ - - - - + - - - - +\n",
    "```\n",
    "Note: There are four empty spaces between the vertical bars.\n",
    "\n",
    "To print more than one value on a line, you can print a comma-separated sequence of values:\n",
    "\n",
    "```\n",
    "print('+', '-')\n",
    "```\n",
    "\n",
    "By default, `print` advances to the next line, but you can override that behavior and put a space at the end, like this:\n",
    "\n",
    "```\n",
    "print('+', end=' ')\n",
    "print('-')\n",
    "```\n",
    "\n",
    "The output of these statements is '+ -'.\n",
    "\n",
    "A `print` statement with no argument ends the current line and goes to the next line."
   ]
  },
  {
   "cell_type": "code",
   "execution_count": 45,
   "metadata": {
    "collapsed": false
   },
   "outputs": [
    {
     "name": "stdout",
     "output_type": "stream",
     "text": [
      "+ - - - - + - - - - +\n",
      "|         |         |\n",
      "|         |         |\n",
      "|         |         |\n",
      "|         |         |\n",
      "+ - - - - + - - - - +\n",
      "|         |         |\n",
      "|         |         |\n",
      "|         |         |\n",
      "|         |         |\n",
      "+ - - - - + - - - - +\n"
     ]
    }
   ],
   "source": [
    "def drawGrid():\n",
    "    print('+', '-', '-','-', '-','+','-', '-','-', '-','+')\n",
    "    print('|         |         |')\n",
    "    print('|         |         |')\n",
    "    print('|         |         |')\n",
    "    print('|         |         |')\n",
    "    print('+', '-', '-','-', '-','+','-', '-','-', '-','+')\n",
    "    print('|         |         |')\n",
    "    print('|         |         |')\n",
    "    print('|         |         |')\n",
    "    print('|         |         |')\n",
    "    print('+', '-', '-','-', '-','+','-', '-','-', '-','+')\n",
    "    \n",
    "drawGrid()"
   ]
  },
  {
   "cell_type": "markdown",
   "metadata": {},
   "source": [
    "2\\. Write a function that draws a similar grid with four rows and four columns."
   ]
  },
  {
   "cell_type": "code",
   "execution_count": 49,
   "metadata": {
    "collapsed": false
   },
   "outputs": [
    {
     "name": "stdout",
     "output_type": "stream",
     "text": [
      "+ - - - - + - - - - + - - - - + - - - - +\n",
      "|         |         |         |         |\n",
      "|         |         |         |         |\n",
      "|         |         |         |         |\n",
      "|         |         |         |         |\n",
      "+ - - - - + - - - - + - - - - + - - - - +\n",
      "|         |         |         |         |\n",
      "|         |         |         |         |\n",
      "|         |         |         |         |\n",
      "|         |         |         |         |\n",
      "+ - - - - + - - - - + - - - - + - - - - +\n",
      "|         |         |         |         |\n",
      "|         |         |         |         |\n",
      "|         |         |         |         |\n",
      "|         |         |         |         |\n",
      "+ - - - - + - - - - + - - - - + - - - - +\n",
      "|         |         |         |         |\n",
      "|         |         |         |         |\n",
      "|         |         |         |         |\n",
      "|         |         |         |         |\n",
      "+ - - - - + - - - - + - - - - + - - - - +\n"
     ]
    }
   ],
   "source": [
    "def drawBigGrid():\n",
    "    print('+', '-', '-','-', '-','+','-', '-','-', '-','+', '-', '-','-', '-','+','-', '-','-', '-','+')\n",
    "    print('|         |         |         |         |')\n",
    "    print('|         |         |         |         |')\n",
    "    print('|         |         |         |         |')\n",
    "    print('|         |         |         |         |')\n",
    "    print('+', '-', '-','-', '-','+','-', '-','-', '-','+', '-', '-','-', '-','+','-', '-','-', '-','+')\n",
    "    print('|         |         |         |         |')\n",
    "    print('|         |         |         |         |')\n",
    "    print('|         |         |         |         |')\n",
    "    print('|         |         |         |         |')\n",
    "    print('+', '-', '-','-', '-','+','-', '-','-', '-','+', '-', '-','-', '-','+','-', '-','-', '-','+')\n",
    "    print('|         |         |         |         |')\n",
    "    print('|         |         |         |         |')\n",
    "    print('|         |         |         |         |')\n",
    "    print('|         |         |         |         |')\n",
    "    print('+', '-', '-','-', '-','+','-', '-','-', '-','+', '-', '-','-', '-','+','-', '-','-', '-','+')\n",
    "    print('|         |         |         |         |')\n",
    "    print('|         |         |         |         |')\n",
    "    print('|         |         |         |         |')\n",
    "    print('|         |         |         |         |')\n",
    "    print('+', '-', '-','-', '-','+','-', '-','-', '-','+', '-', '-','-', '-','+','-', '-','-', '-','+')\n",
    "    \n",
    "drawBigGrid()"
   ]
  },
  {
   "cell_type": "markdown",
   "metadata": {},
   "source": [
    "## Chapter 5.1 - 5.7"
   ]
  },
  {
   "cell_type": "markdown",
   "metadata": {},
   "source": [
<<<<<<< HEAD
    "Conventional division (/) returns a floating point number and floor division (//) divides and rounds down to an integer.\n",
    "\n",
    "Modulus operator (%) divides two numbers and returns a remainder.\n",
    "\n",
    "The three logical operators are \"and\", \"or\", and \"not\" typed out.\n",
    "\n",
    "Any nonzero number is interpreted as true in python.\n",
    "\n",
    "Statements with a header and an indented body (like if statements) are compound statements.\n",
    "\n",
    "Pass statements serves as a body filler which does nothing.\n",
    "\n",
    "Alternatives to ifs (elses) are called branches.\n",
    "\n",
    "Chained conditionals create more than two branches using elif - the first true statement is executed.\n",
    "\n",
    "Conditionals can also be nested within each other. "
   ]
  },
  {
   "cell_type": "markdown",
   "metadata": {},
   "source": [
    "### Exercise 2\n",
=======
    "### Exercise 5.2\n",
>>>>>>> 759afb593fb7e11d448ac27545d0a61074bbf034
    "\n",
    "Fermat’s Last Theorem says that there are no positive integers $a$, $b$, and $c$ such that $$a^n + b^n = c^n$$ for any values of $n$ greater than 2.\n",
    "\n",
    "1\\. Write a function named `check_fermat` that takes four parameters – $a$, $b$, $c$ and $n$ – and that checks to see if Fermat’s theorem holds. If n is greater than 2 and it turns out to be true that\n",
    "$a^n + b^n = c^n$, then the program should print: \"Holy smokes, Fermat was wrong!\" Otherwise the program should print: \"No, that doesn’t work.\""
   ]
  },
  {
   "cell_type": "code",
   "execution_count": 50,
   "metadata": {
    "collapsed": false
   },
   "outputs": [
    {
     "name": "stdout",
     "output_type": "stream",
     "text": [
      "No, that doesn't work.\n",
      "n isn't greater than 2!\n"
     ]
    }
   ],
   "source": [
    "def check_fermat(a, b, c, n):\n",
    "    if n>2:\n",
    "        if c**n == a**n + b**n:\n",
    "            print(\"Holy smokes, Fermat was wrong!\")\n",
    "        else:\n",
    "            print(\"No, that doesn't work.\")\n",
    "    else:\n",
    "        print(\"n isn't greater than 2!\")\n",
    "        \n",
    "check_fermat(3,5,2,4)\n",
    "check_fermat(3,7,1,1)"
   ]
  },
  {
   "cell_type": "markdown",
   "metadata": {},
   "source": [
    "2\\. Write a function that prompts the user to input values for $a$, $b$, $c$ and $n$, converts them to integers, and uses `check_fermat` to check whether they violate Fermat’s theorem."
   ]
  },
  {
   "cell_type": "code",
   "execution_count": 53,
   "metadata": {
    "collapsed": false
   },
   "outputs": [
    {
     "name": "stdout",
     "output_type": "stream",
     "text": [
      "Input a: 4\n",
      "Input b: 3\n",
      "Input c: 2\n",
      "Input n: 5\n",
      "No, that doesn't work.\n"
     ]
    }
   ],
   "source": [
    "def getValues():\n",
    "    a = input(\"Input a: \")\n",
    "    b = input(\"Input b: \")\n",
    "    c = input(\"Input c: \")\n",
    "    n = input(\"Input n: \")\n",
    "    a = int(a)\n",
    "    b = int(b)\n",
    "    c = int(c)\n",
    "    n = int(n)\n",
    "    check_fermat(a,b,c,n)\n",
    "    \n",
    "getValues()"
   ]
  },
  {
   "cell_type": "markdown",
   "metadata": {},
   "source": [
    "### Exercise 5.3 \n",
    "\n",
    "If you are given three sticks, you may or may not be able to arrange them in a triangle. For example, if one of the sticks is 12 inches long and the other two are one inch long, it is clear that you will not be able to get the short sticks to meet in the middle. For any three lengths, there is a simple test to see if it is possible to form a triangle:\n",
    "> If any of the three lengths is greater than the sum of the other two, then you cannot form a triangle. Otherwise, you can. (If the sum of two lengths equals the third, they form what is called a “degenerate” triangle.)\n",
    "\n",
    "1\\. Write a function named `is_triangle` that takes three integers as arguments, and that prints either \"Yes\" or \"No,\" depending on whether you can or cannot form a triangle from sticks with the given lengths."
   ]
  },
  {
   "cell_type": "code",
   "execution_count": 55,
   "metadata": {
    "collapsed": false
   },
   "outputs": [
    {
     "name": "stdout",
     "output_type": "stream",
     "text": [
      "Yes\n"
     ]
    }
   ],
   "source": [
    "def is_triangle(a,b,c):\n",
    "    if c>a+b or a>b+c or b>a+c:\n",
    "        print(\"No\")\n",
    "    else:\n",
    "        print(\"Yes\")\n",
    "        \n",
    "is_triangle(3,4,5)"
   ]
  },
  {
   "cell_type": "markdown",
   "metadata": {},
   "source": [
    "2\\. Write a function that prompts the user to input three stick lengths, converts them to integers, and uses `is_triangle` to check whether sticks with the given lengths can form a triangle."
   ]
  },
  {
   "cell_type": "code",
   "execution_count": 57,
   "metadata": {
    "collapsed": false
   },
   "outputs": [
    {
     "name": "stdout",
     "output_type": "stream",
     "text": [
      "Input a: 100\n",
      "Input b: 5\n",
      "Input c: 3\n",
      "No\n"
     ]
    }
   ],
   "source": [
    "def getValues():\n",
    "    a = input(\"Input a: \")\n",
    "    b = input(\"Input b: \")\n",
    "    c = input(\"Input c: \")\n",
    "    a = int(a)\n",
    "    b = int(b)\n",
    "    c = int(c)\n",
    "    is_triangle(a,b,c)\n",
    "    \n",
    "getValues()"
   ]
  },
  {
   "cell_type": "markdown",
   "metadata": {},
   "source": [
    "## Quick poll\n",
    "About how long did you spend working on this Reading Journal?"
   ]
  },
  {
   "cell_type": "markdown",
   "metadata": {},
   "source": [
    "About 4 hours"
   ]
  },
  {
   "cell_type": "markdown",
   "metadata": {},
   "source": [
    "## Notes for the Instructors\n",
    "\n",
    "Please use the space below to write comments to help us plan the next class session.  For instance, if you want to see us go over an example of a particular type of problem, you can indicate that here.\n",
    "\n",
    "Please remember that the best way to get quick feedback from the instructors as well as your peers, is to use Piazza.  However, consider using this channel if it doesn't make sense to post your note to Piazza."
   ]
  },
  {
   "cell_type": "markdown",
   "metadata": {},
   "source": [
    "I found it very difficult to do some of the assigned exercises without using things like for loops that I know because of my prior background but which hadn't been formally introduced in the reading at the point of that exercise."
   ]
  }
 ],
 "metadata": {
  "kernelspec": {
   "display_name": "Python 3",
   "language": "python",
   "name": "python3"
  },
  "language_info": {
   "codemirror_mode": {
    "name": "ipython",
    "version": 3
   },
   "file_extension": ".py",
   "mimetype": "text/x-python",
   "name": "python",
   "nbconvert_exporter": "python",
   "pygments_lexer": "ipython3",
   "version": "3.4.3"
  }
 },
 "nbformat": 4,
 "nbformat_minor": 0
}
