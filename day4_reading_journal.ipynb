{
 "cells": [
  {
   "cell_type": "markdown",
   "metadata": {},
   "source": [
    "# Day 4 Reading Journal\n",
    "\n",
    "This journal includes several required exercises, but it is meant to encourage active reading more generally.  You should use the journal to take detailed notes, catalog questions, and explore the content from Think Python deeply.\n",
    "\n",
    "Reading: Think Python Chapter 10\n",
    "\n",
    "**Due: Monday, January 30 at 12 noon**\n",
    "\n"
   ]
  },
  {
   "cell_type": "markdown",
   "metadata": {},
   "source": [
    "## [Chapter 10](http://www.greenteapress.com/thinkpython2/html/thinkpython2011.html)\n",
    "\n",
    "You may want to review [state diagrams in Chapter 2](http://greenteapress.com/thinkpython2/html/thinkpython2003.html). [Python Tutor](http://pythontutor.com/) is also helpful for visualizing the state of your program.\n",
    "\n"
   ]
  },
  {
   "cell_type": "markdown",
   "metadata": {},
   "source": [
    "Augmented assignment statements (using += 1 to add 1 each time) provides a short way to update a variable.\n",
    "\n",
    "A variable used as an incrementer is sometimes called an accumulator.\n",
    "\n",
    "Sum is a built in function which adds the elements in a list.\n",
    "\n",
    "An operation that combines a sequence of elements into a single one (like sum) sometimes called reduce.\n",
    "\n",
    "An operation that maps a function onto all of its elements is called a map.\n",
    "\n",
    "A filter selects some elements and filters out others.\n",
    "\n",
    "Pop deletes an element at an index (or the last if no index provided) and returns the element being removed.\n",
    "\n",
    "Remove can remove a specific element if you do not know the index.\n",
    "\n",
    "To convert a string to a list of characters use list(str).\n",
    "\n",
    "The split method breaks a string into a list of words.\n",
    "\n",
    "Use is to check if two variables refer to the same object or are just equivalent but not identical.\n",
    "\n",
    "An object has a value.\n",
    "\n",
    "Association of a variable with an object is a reference.\n",
    "\n",
    "An object with multiple references/names is called aliased.\n",
    "\n",
    "Append modifies an existing list but + makes a new list. \n",
    "\n",
    "List methods (unlike string ones) modify the list and often return none.\n",
    "\n",
    "Sorted returns a new sorted list and leaves the original alone. \n",
    "\n",
    "Make copies of lists to avoid losing data when you perform methods on a list."
   ]
  },
  {
   "cell_type": "markdown",
   "metadata": {},
   "source": [
    "### Exercise 10.3 \n",
    "Write a function called `middle` that takes a list and returns a new list that contains all but the first and last elements. So `middle([1,2,3,4])` should return `[2,3]`."
   ]
  },
  {
   "cell_type": "code",
   "execution_count": 10,
   "metadata": {
    "collapsed": false
   },
   "outputs": [
    {
     "name": "stdout",
     "output_type": "stream",
     "text": [
      "[2, 3]\n",
      "[7]\n",
      "[]\n",
      "[1, 2, 3, 4, 5]\n"
     ]
    }
   ],
   "source": [
    "def middle(myList):\n",
    "    return myList[1:len(myList)-1]\n",
    "\n",
    "print(middle([1,2,3,4]))\n",
    "print(middle([5,7,8]))\n",
    "print(middle([]))"
   ]
  },
  {
   "cell_type": "markdown",
   "metadata": {},
   "source": [
    "### Exercise 10.4 \n",
    "Write a function called `chop` that takes a list, modifies it by removing the first and last elements, and returns `None`.\n",
    "\n",
    "What is the difference between `middle` and `chop`? Sketch out the program state or take a look at each in Python Tutor and answer the question in the Markdown cell below."
   ]
  },
  {
   "cell_type": "code",
   "execution_count": 9,
   "metadata": {
    "collapsed": false
   },
   "outputs": [
    {
     "name": "stdout",
     "output_type": "stream",
     "text": [
      "[2, 3]\n"
     ]
    }
   ],
   "source": [
    "def chop(myList):\n",
    "    del myList[0]\n",
    "    del myList[len(myList)-1]\n",
    "    \n",
    "a = [1,2,3,4]\n",
    "chop(a)\n",
    "print(a)"
   ]
  },
  {
   "cell_type": "markdown",
   "metadata": {},
   "source": [
    "Middle does not change the value of the list parameter it simply returns a subset of that list whereas chop actually changes the value of the list variable to get rid of the first and last letters. "
   ]
  },
  {
   "cell_type": "markdown",
   "metadata": {},
   "source": [
    "### Exercise 10.6 \n",
    "Two words are anagrams if you can rearrange the letters from one to spell the other. Write a function called `is_anagram` that takes two strings and returns `True` if they are anagrams."
   ]
  },
  {
   "cell_type": "code",
   "execution_count": 19,
   "metadata": {
    "collapsed": false
   },
   "outputs": [
    {
     "name": "stdout",
     "output_type": "stream",
     "text": [
      "True\n",
      "True\n"
     ]
    }
   ],
   "source": [
    "def is_anagram(str1, str2):\n",
    "    if len(str1) != len(str2):\n",
    "        return False\n",
    "    for i in range(len(str1)):\n",
    "        if str1.count(str1[i]) == str2.count(str1[i]):\n",
    "            pass\n",
    "        else:\n",
    "            return False\n",
    "    return True\n",
    "\n",
    "print(is_anagram(\"cat\", \"tac\"))\n",
    "print(is_anagram(\"tommarvoloriddle\", \"iamlordvoldemort\"))"
   ]
  },
  {
   "cell_type": "markdown",
   "metadata": {},
   "source": [
    "### Exercise 10.8  \n",
    "The (so-called) Birthday Paradox: <br /><br />\n",
    "1\\. Write a function called `has_duplicates` that takes a list and returns `True` if there is any element that appears more than once. It should not modify the original list.\n",
    "\n",
    "2\\. If there are 23 students in your class, what are the chances that two of you have the same birthday? Put your answer in the Markdown cell below. You can estimate this probability by generating random samples of 23 birthdays and checking for matches. Hint: you can generate random birthdays with the randint function from the [random module](https://docs.python.org/2/library/random.html).\n",
    "\n",
    "You can read about this problem at http://en.wikipedia.org/wiki/Birthday_paradox, and you can download Allen's solution from http://greenteapress.com/thinkpython2/code/birthday.py."
   ]
  },
  {
   "cell_type": "code",
   "execution_count": 24,
   "metadata": {
    "collapsed": false
   },
   "outputs": [
    {
     "name": "stdout",
     "output_type": "stream",
     "text": [
      "After 1000 simulations 492 of them generated a class of 23 with duplicate birthdays\n",
      "True\n",
      "False\n"
     ]
    }
   ],
   "source": [
    "import random\n",
    "def has_duplicates(myList):\n",
    "    t = myList[:]\n",
    "    for i in range(len(t)):\n",
    "        currentItem = t.pop(0)\n",
    "        if currentItem in t:\n",
    "            return True\n",
    "    return False\n",
    "        \n",
    "def birthdays():\n",
    "    a = []\n",
    "    for i in range(23):\n",
    "        a.append(random.randint(0,364))\n",
    "    return has_duplicates(a)\n",
    "\n",
    "def main():\n",
    "    count = 0\n",
    "    for i in range(1000):\n",
    "        if birthdays():\n",
    "            count += 1\n",
    "    print(\"After 1000 simulations \" + str(count) + \" of them generated a class of 23 with duplicate birthdays\")\n",
    "\n",
    "if __name__ == '__main__':\n",
    "    main()\n",
    "        \n",
    "print(has_duplicates([5,4,5,6]))\n",
    "print(birthdays())"
   ]
  },
  {
   "cell_type": "markdown",
   "metadata": {},
   "source": [
    "My simulation seems to be generating students with duplicates about half of the time (500 out of 1000 times). It seems that the chances of at least two of you having the same birthday are about 50%."
   ]
  },
  {
   "cell_type": "markdown",
   "metadata": {},
   "source": [
    "### Challenge: Exercise 10.10 (optional)\n",
    "\n",
    "You should read [Chapter 9.1](http://www.greenteapress.com/thinkpython2/html/thinkpython2010.html) and do Exercise 1 first.\n",
    "\n",
    "To check whether a word is in the word list, you could use the `in` operator, but it would be relatively slow because it searches through the words in order (try it).\n",
    "\n",
    "Because the words are in alphabetical order, we can speed things up with a bisection search (also known as binary search), which is similar to what you do when you look a word up in the dictionary. You start in the middle and check to see whether the word you are looking for comes before the word in the middle of the list. If so, then you search the first half of the list the same way. Otherwise you search the second half.\n",
    "\n",
    "Either way, you cut the remaining search space in half. If the word list has 113,809 words, it will take about 17 steps to find the word or conclude that it’s not there.\n",
    "\n",
    "Write a function called `bisect` that takes a sorted list and a target value and returns the index of the value in the list, if it’s there, or `None` if it’s not.\n",
    "\n",
    "Or you could read the documentation of the `bisect` module and use that! Solution: http://greenteapress.com/thinkpython2/code/inlist.py."
   ]
  },
  {
   "cell_type": "code",
   "execution_count": 28,
   "metadata": {
    "collapsed": false
   },
   "outputs": [
    {
     "name": "stdout",
     "output_type": "stream",
     "text": [
      "0\n"
     ]
    }
   ],
   "source": [
    "#not done with this - will come back to if I have time\n",
    "def bisect(wordList, word):\n",
    "    c = wordList[:]\n",
    "    if len(wordList) == 0:\n",
    "        return False\n",
    "    i = len(wordList) // 2\n",
    "    if wordList[i] == word:\n",
    "        return i\n",
    "    elif wordList[i] > word:\n",
    "        #must be in first half\n",
    "        return wordList[:i].index(word)\n",
    "    else:\n",
    "        #must be in the second\n",
    "        return wordList[i+1:].index(word)\n",
    "\n",
    "print(bisect([\"alpha\", \"beta\", \"gamma\", \"omega\"], \"omega\"))"
   ]
  },
  {
   "cell_type": "markdown",
   "metadata": {},
   "source": [
    "## Reading Journal feedback\n",
    "\n",
    "Have any comments on this Reading Journal? Feel free to leave them [here](https://goo.gl/forms/hZqCUAi4ir7hVN6x2) and we'll read them when you submit your journal entry. This could include suggestions to improve the exercises, topics you'd like to see covered in class next time, or other feedback.\n",
    "\n",
    "If you have Python questions or run into problems while completing the reading, you should post them to Piazza instead so you can get a quick response before your journal is submitted."
   ]
  }
 ],
 "metadata": {
  "kernelspec": {
   "display_name": "Python 3",
   "language": "python",
   "name": "python3"
  },
  "language_info": {
   "codemirror_mode": {
    "name": "ipython",
    "version": 3
   },
   "file_extension": ".py",
   "mimetype": "text/x-python",
   "name": "python",
   "nbconvert_exporter": "python",
   "pygments_lexer": "ipython3",
   "version": "3.4.3"
  }
 },
 "nbformat": 4,
 "nbformat_minor": 0
}
