{
 "cells": [
  {
   "cell_type": "markdown",
   "metadata": {},
   "source": [
    "# Day 2 Reading Journal\n",
    "\n",
    "This journal includes several required exercises, but it is meant to encourage active reading more generally.  You should use the journal to take detailed notes, catalog questions, and explore the content from Think Python deeply.\n",
    "\n",
    "Reading: Think Python Chapter 6.1-6.4, 7\n",
    "\n",
    "**Due: Tuesday, January 24 at 12 noon**\n",
    "\n"
   ]
  },
  {
   "cell_type": "markdown",
   "metadata": {},
   "source": [
    "## [Chapter 6.1-6.4](http://greenteapress.com/thinkpython2/html/thinkpython2007.html)\n",
    "\n",
    "Note: the exercise numbers below match up with the reading for ease of cross referencing."
   ]
  },
  {
   "cell_type": "markdown",
   "metadata": {},
   "source": [
    "Fruitful functions return expressions.\n",
    "\n",
    "Code that appears after a return statement can never be reached and is called dead code. \n",
    "\n",
    "If a function ends without hitting a return statement the return value is \"none.\"\n",
    "\n",
    "Incremental development avoids long debugging sessions by adding and testing only small amounts of code at a time.\n",
    "\n",
    "Code like print statements that is helpful for debugging but not part of the final product is called scaffolding.\n",
    "\n",
    "The ability to call one function from within another is called composition.\n"
   ]
  },
  {
   "cell_type": "markdown",
   "metadata": {},
   "source": [
    "**Quick check:** What is a _fruitful function_?"
   ]
  },
  {
   "cell_type": "markdown",
   "metadata": {},
   "source": [
    "A fruitful function is a function that has a return value. "
   ]
  },
  {
   "cell_type": "markdown",
   "metadata": {},
   "source": [
    "### Chapter 6.1 \n",
    "Write a `compare` function that returns `1` if `x > y`, `0` if `x == y`, and `-1` if `x < y`."
   ]
  },
  {
   "cell_type": "code",
   "execution_count": 2,
   "metadata": {
    "collapsed": false
   },
   "outputs": [
    {
     "name": "stdout",
     "output_type": "stream",
     "text": [
      "-1\n",
      "1\n",
      "0\n"
     ]
    }
   ],
   "source": [
    "def compare(x,y):\n",
    "    if x>y:\n",
    "        return 1\n",
    "    elif x==y:\n",
    "        return 0\n",
    "    else:\n",
    "        return -1\n",
    "    \n",
    "print(compare(5,6))\n",
    "print(compare(8,3))\n",
    "print(compare(2,2))"
   ]
  },
  {
   "cell_type": "markdown",
   "metadata": {},
   "source": [
    "**Quick check:** Modify the `absolute_value` function so that it returns the correct result for all integer inputs."
   ]
  },
  {
   "cell_type": "code",
   "execution_count": 4,
   "metadata": {
    "collapsed": false
   },
   "outputs": [
    {
     "name": "stdout",
     "output_type": "stream",
     "text": [
      "0\n",
      "5\n",
      "5\n"
     ]
    }
   ],
   "source": [
    "def absolute_value(x):\n",
    "    if x < 0:\n",
    "        return -x\n",
    "    elif x > 0:\n",
    "        return x\n",
    "    else:\n",
    "        return 0\n",
    "    \n",
    "print(absolute_value(0))\n",
    "print(absolute_value(-5))\n",
    "print(absolute_value(5))"
   ]
  },
  {
   "cell_type": "markdown",
   "metadata": {},
   "source": [
    "### Chapter 6.2 \n",
    "Use incremental development to write a function called `hypotenuse` that returns the length of the hypotenuse of a right triangle given the lengths of the two legs as arguments. Record each stage of the development process as you go, using as many cells as you need."
   ]
  },
  {
   "cell_type": "code",
   "execution_count": 11,
   "metadata": {
    "collapsed": false
   },
   "outputs": [
    {
     "name": "stdout",
     "output_type": "stream",
     "text": [
      "0\n",
      "25\n",
      "0\n",
      "5.0\n",
      "0\n",
      "5.0\n"
     ]
    }
   ],
   "source": [
    "import math\n",
    "def hypotenuse(a,b):\n",
    "    return 0\n",
    "\n",
    "print(hypotenuse(3,4))\n",
    "\n",
    "def hypotenuse(a,b):\n",
    "    print (a**2 + b**2)\n",
    "    return 0\n",
    "\n",
    "print(hypotenuse(3,4))\n",
    "\n",
    "def hypotenuse(a,b):\n",
    "    csquared = (a**2 + b**2)\n",
    "    print(math.sqrt(csquared))\n",
    "    return 0\n",
    "\n",
    "print(hypotenuse(3,4))\n",
    "\n",
    "def hypotenuse(a,b):\n",
    "    csquared = (a**2 + b**2)\n",
    "    return (math.sqrt(csquared))\n",
    "\n",
    "print(hypotenuse(3,4))"
   ]
  },
  {
   "cell_type": "markdown",
   "metadata": {},
   "source": [
    "### Chapter 6.4\n",
    "Write a function `is_between(x, y, z)` that returns `True` if `x ≤ y ≤ z` or `False` otherwise."
   ]
  },
  {
   "cell_type": "code",
   "execution_count": 12,
   "metadata": {
    "collapsed": false
   },
   "outputs": [
    {
     "name": "stdout",
     "output_type": "stream",
     "text": [
      "True\n",
      "False\n"
     ]
    }
   ],
   "source": [
    "def is_between(x,y,z):\n",
    "    return x<=y and y<=z\n",
    "\n",
    "print(is_between(5,8,20))\n",
    "print(is_between(2,30,10))"
   ]
  },
  {
   "cell_type": "markdown",
   "metadata": {},
   "source": [
    "## [Chapter 7](http://greenteapress.com/thinkpython2/html/thinkpython2008.html)\n",
    "\n"
   ]
  },
  {
   "cell_type": "markdown",
   "metadata": {},
   "source": [
    "In multiple assignment a new assignment makes an existing variable point to a new value.\n",
    "\n",
    "An update is where the new value of a variable depends on the old (like incrementing).\n",
    "\n",
    "Before you update a variable you must initialize it to some value.\n",
    "\n",
    "While loops allow you to repeat a task.\n",
    "\n",
    "You must change some value within the while loop that will cause the loop to eventually exit. Otherwise, you have an infinite loop.\n",
    "\n",
    "Break statements exit an infinite loop.\n",
    "\n",
    "Better to check if floats are close enough to each other rather than exactly equal.\n",
    "\n",
    "An algorithm is a mechanical process for solving a category of problems. "
   ]
  },
  {
   "cell_type": "markdown",
   "metadata": {},
   "source": [
    "**Quick check:** How do you test for equality in Python?"
   ]
  },
  {
   "cell_type": "markdown",
   "metadata": {},
   "source": [
    "You test for equality using == not just =. One equals sign is an assignment statement whereas two check for equality."
   ]
  },
  {
   "cell_type": "markdown",
   "metadata": {},
   "source": [
    "**Challenge:** Prove/disprove the Collatz conjecture :)"
   ]
  },
  {
   "cell_type": "markdown",
   "metadata": {},
   "source": [
    "3n+1 will always generate an even number and eventually we will always come to an even number which goes down to 2 and then of course 1."
   ]
  },
  {
   "cell_type": "markdown",
   "metadata": {},
   "source": [
    "### Chapter 7.5\n",
    "Encapsulate the loop from Section 7.5 in a function called `square_root` that takes `a` as a parameter, chooses a reasonable value of `x`, and returns an estimate of the square root of `a`."
   ]
  },
  {
   "cell_type": "code",
   "execution_count": 16,
   "metadata": {
    "collapsed": false
   },
   "outputs": [
    {
     "name": "stdout",
     "output_type": "stream",
     "text": [
      "5.0\n",
      "7.0\n"
     ]
    }
   ],
   "source": [
    "def square_root(a):\n",
    "    x = a + 1\n",
    "    while True:\n",
    "        y = (x+a/x)/2\n",
    "        if abs(y-x) < .00000001:\n",
    "            break\n",
    "        x = y\n",
    "    return y\n",
    "\n",
    "print(square_root(25)) \n",
    "print(square_root(49))    "
   ]
  },
  {
   "cell_type": "markdown",
   "metadata": {},
   "source": [
    "### Exercise 7.1  \n",
    "To test the square root algorithm you developed in Exercise 2, you could compare it with Python's `math.sqrt` function. Write a function named `test_square_root` that prints a table like this:\n",
    "\n",
    "```python\n",
    "1.0 1.0           1.0           0.0\n",
    "2.0 1.41421356237 1.41421356237 2.22044604925e-16\n",
    "3.0 1.73205080757 1.73205080757 0.0\n",
    "4.0 2.0           2.0           0.0\n",
    "5.0 2.2360679775  2.2360679775  0.0\n",
    "6.0 2.44948974278 2.44948974278 0.0\n",
    "7.0 2.64575131106 2.64575131106 0.0\n",
    "8.0 2.82842712475 2.82842712475 4.4408920985e-16\n",
    "9.0 3.0           3.0           0.0\n",
    "```\n",
    "\n",
    "The first column is a number, `a`; the second column is the square root of a computed with the function from Section 7.5; the third column is the square root computed by `math.sqrt`; the fourth column is the absolute value of the difference between the two estimates."
   ]
  },
  {
   "cell_type": "code",
   "execution_count": 18,
   "metadata": {
    "collapsed": false
   },
   "outputs": [
    {
     "name": "stdout",
     "output_type": "stream",
     "text": [
      "1 1.0 1.0 0.0\n",
      "2 1.414213562373095 1.4142135623730951 2.220446049250313e-16\n",
      "3 1.7320508075688772 1.7320508075688772 0.0\n",
      "4 2.0 2.0 0.0\n",
      "5 2.23606797749979 2.23606797749979 0.0\n",
      "6 2.449489742783178 2.449489742783178 0.0\n",
      "7 2.6457513110645907 2.6457513110645907 0.0\n",
      "8 2.82842712474619 2.8284271247461903 4.440892098500626e-16\n",
      "9 3.0 3.0 0.0\n"
     ]
    }
   ],
   "source": [
    "import math\n",
    "print('1',str(square_root(1)), str(math.sqrt(1)), str(abs(square_root(1)-math.sqrt(1))))\n",
    "print('2',str(square_root(2)), str(math.sqrt(2)), str(abs(square_root(2)-math.sqrt(2))))\n",
    "print('3',str(square_root(3)), str(math.sqrt(3)), str(abs(square_root(3)-math.sqrt(3))))\n",
    "print('4',str(square_root(4)), str(math.sqrt(4)), str(abs(square_root(4)-math.sqrt(4))))\n",
    "print('5',str(square_root(5)), str(math.sqrt(5)), str(abs(square_root(5)-math.sqrt(5))))\n",
    "print('6',str(square_root(6)), str(math.sqrt(6)), str(abs(square_root(6)-math.sqrt(6))))\n",
    "print('7',str(square_root(7)), str(math.sqrt(7)), str(abs(square_root(7)-math.sqrt(7))))\n",
    "print('8',str(square_root(8)), str(math.sqrt(8)), str(abs(square_root(8)-math.sqrt(8))))\n",
    "print('9',str(square_root(9)), str(math.sqrt(9)), str(abs(square_root(9)-math.sqrt(9))))"
   ]
  },
  {
   "cell_type": "markdown",
   "metadata": {},
   "source": [
    "### Challenge: Exercise 7.3  (optional)\n",
    "The mathematician Srinivasa Ramanujan found an infinite series that can be used to generate a numerical approximation of\n",
    "$\\frac{1}{\\pi}$:\n",
    "\n",
    "$$\\frac{1}{\\pi} = \\frac{2 \\sqrt{2}}{9801} \\sum_{k=0}^{\\infty} \\frac{(4k)! (1103+26390k)}{(k!)^4 396^{4k}}$$\n",
    " \n",
    "Write a function called `estimate_pi` that uses this formula to compute and return an estimate of $\\pi$. It should use a `while` loop to compute terms of the summation until the last term is smaller than `1e-15` (which is Python notation for $10^{−15}$). You can check the result by comparing it to `math.pi`.\n",
    "\n",
    "[Possible solution](http://thinkpython.com/code/pi.py) (give the exercise a try before viewing the solution)"
   ]
  },
  {
   "cell_type": "code",
   "execution_count": 23,
   "metadata": {
    "collapsed": false
   },
   "outputs": [
    {
     "name": "stdout",
     "output_type": "stream",
     "text": [
      "3.1415926535897936\n",
      "3.141592653589793\n"
     ]
    }
   ],
   "source": [
    "import math\n",
    "def estimate_pi():\n",
    "    first = (2*math.sqrt(2))/9801\n",
    "    k = 0\n",
    "    currentsum = 0\n",
    "    while True:\n",
    "        term = ((math.factorial(4*k)*(1103+26390*k))/(math.factorial(k**4)*396**(4*k)))\n",
    "        currentsum = currentsum + term\n",
    "        k = k+1\n",
    "        if(term<1e-15):\n",
    "            pi = 1/(first*currentsum)\n",
    "            return pi\n",
    "            break\n",
    "            \n",
    "print(estimate_pi())\n",
    "print(math.pi)"
   ]
  },
  {
   "cell_type": "markdown",
   "metadata": {},
   "source": [
    "## Quick poll\n",
    "\n",
    "About how long did you spend working on this Reading Journal?"
   ]
  },
  {
   "cell_type": "markdown",
   "metadata": {},
   "source": [
    "About 3 hours"
   ]
  },
  {
   "cell_type": "markdown",
   "metadata": {},
   "source": [
    "## Reading Journal feedback\n",
    "\n",
    "Have any comments on this Reading Journal? Feel free to leave them below and we'll read them when you submit your journal entry. This could include suggestions to improve the exercises, topics you'd like to see covered in class next time, or other feedback.\n",
    "\n",
    "If you have Python questions or run into problems while completing the reading, you should post them to Piazza instead so you can get a quick response before your journal is submitted."
   ]
  },
  {
   "cell_type": "markdown",
   "metadata": {},
   "source": [
    "Perhaps at least give reference to what Collatz's conjecture is - I don't think it called it that in the reading and I wasn't sure what that was referring to at first. "
   ]
  },
  {
   "cell_type": "markdown",
   "metadata": {},
   "source": [
    " "
   ]
  }
 ],
 "metadata": {
  "kernelspec": {
   "display_name": "Python 3",
   "language": "python",
   "name": "python3"
  },
  "language_info": {
   "codemirror_mode": {
    "name": "ipython",
    "version": 3
   },
   "file_extension": ".py",
   "mimetype": "text/x-python",
   "name": "python",
   "nbconvert_exporter": "python",
   "pygments_lexer": "ipython3",
   "version": "3.4.3"
  }
 },
 "nbformat": 4,
 "nbformat_minor": 0
}
